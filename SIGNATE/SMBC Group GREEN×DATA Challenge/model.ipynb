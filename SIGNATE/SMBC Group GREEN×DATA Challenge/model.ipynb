{
  "nbformat": 4,
  "nbformat_minor": 0,
  "metadata": {
    "colab": {
      "provenance": []
    },
    "kernelspec": {
      "name": "python3",
      "display_name": "Python 3"
    },
    "language_info": {
      "name": "python"
    }
  },
  "cells": [
    {
      "cell_type": "code",
      "source": [
        "from google.colab import drive\n",
        "drive.mount('/content/drive')\n",
        "\n",
        "import pandas as pd\n",
        "import numpy as np\n",
        "\n",
        "import matplotlib.pyplot as plt\n",
        "import seaborn as sns\n",
        "sns.set()\n",
        "%matplotlib inline\n",
        "\n",
        "import warnings\n",
        "warnings.simplefilter('ignore')\n",
        "\n",
        "from sklearn.model_selection import StratifiedKFold\n",
        "from sklearn.metrics import log_loss, accuracy_score, roc_auc_score, f1_score\n",
        "from sklearn.utils.class_weight import compute_sample_weight\n",
        "\n",
        "import lightgbm as lgb"
      ],
      "metadata": {
        "colab": {
          "base_uri": "https://localhost:8080/"
        },
        "id": "HbAPdy3hDLbH",
        "outputId": "4d921610-d717-4bbc-d51d-be3963902239"
      },
      "execution_count": null,
      "outputs": [
        {
          "output_type": "stream",
          "name": "stdout",
          "text": [
            "Drive already mounted at /content/drive; to attempt to forcibly remount, call drive.mount(\"/content/drive\", force_remount=True).\n"
          ]
        }
      ]
    },
    {
      "cell_type": "code",
      "execution_count": null,
      "metadata": {
        "id": "OKEMdmu6Co5L"
      },
      "outputs": [],
      "source": [
        "pd.options.display\n",
        "train = pd.read_csv('/content/drive/MyDrive/SMFG/train.csv', index_col=0) # 学習用データ\n",
        "test = pd.read_csv('/content/drive/MyDrive/SMFG/test.csv', index_col=0) # 学習用データ   # 評価用データ\n",
        "sample_submit = pd.read_csv('/content/drive/MyDrive/SMFG/sample_submission.csv', index_col=0, header=None) # 応募用サンプルファイル"
      ]
    },
    {
      "cell_type": "markdown",
      "source": [
        "# Preprocessing"
      ],
      "metadata": {
        "id": "_dO8SezmF-UB"
      }
    },
    {
      "cell_type": "code",
      "source": [
        "test.head()"
      ],
      "metadata": {
        "colab": {
          "base_uri": "https://localhost:8080/",
          "height": 400
        },
        "id": "ML29uuG9GHov",
        "outputId": "c60614fd-171e-4d1b-b824-ba4048547675"
      },
      "execution_count": null,
      "outputs": [
        {
          "output_type": "execute_result",
          "data": {
            "text/plain": [
              "       created_at  tree_dbh curb_loc steward   guards  sidewalk  \\\n",
              "19984  2015-09-08        15   OnCurb     NaN      NaN    Damage   \n",
              "19985  2015-10-15         5   OnCurb    1or2      NaN  NoDamage   \n",
              "19986  2016-08-03         4   OnCurb     NaN   Unsure  NoDamage   \n",
              "19987  2015-08-06         7   OnCurb     NaN      NaN  NoDamage   \n",
              "19988  2015-10-21         6   OnCurb    1or2  Helpful  NoDamage   \n",
              "\n",
              "              user_type problems         spc_common  \\\n",
              "19984   NYC Parks Staff      NaN       Callery pear   \n",
              "19985         Volunteer      NaN             cherry   \n",
              "19986         Volunteer      NaN  littleleaf linden   \n",
              "19987  TreesCount Staff      NaN       dawn redwood   \n",
              "19988  TreesCount Staff   Stones   purple-leaf plum   \n",
              "\n",
              "                          spc_latin   nta  \\\n",
              "19984              Pyrus calleryana  BK17   \n",
              "19985                        Prunus  BX62   \n",
              "19986                 Tilia cordata  QN60   \n",
              "19987  Metasequoia glyptostroboides  BK09   \n",
              "19988             Prunus cerasifera  BK75   \n",
              "\n",
              "                                             nta_name  borocode  boro_ct  \\\n",
              "19984  Sheepshead Bay-Gerritsen Beach-Manhattan Beach         3  3062000   \n",
              "19985                              Woodlawn-Wakefield         2  2045101   \n",
              "19986                                     Kew Gardens         4  4013800   \n",
              "19987                    Brooklyn Heights-Cobble Hill         3  3000301   \n",
              "19988                                         Bedford         3  3025100   \n",
              "\n",
              "       boroname     zip_city  cb_num  st_senate  st_assem  cncldist  \n",
              "19984  Brooklyn     Brooklyn     315         22        45        48  \n",
              "19985     Bronx        Bronx     212         34        81        11  \n",
              "19986    Queens  Kew Gardens     409         14        27        29  \n",
              "19987  Brooklyn     Brooklyn     302         26        52        33  \n",
              "19988  Brooklyn     Brooklyn     303         25        56        36  "
            ],
            "text/html": [
              "\n",
              "  <div id=\"df-f89f8306-f20f-4c28-9020-36d23548f106\" class=\"colab-df-container\">\n",
              "    <div>\n",
              "<style scoped>\n",
              "    .dataframe tbody tr th:only-of-type {\n",
              "        vertical-align: middle;\n",
              "    }\n",
              "\n",
              "    .dataframe tbody tr th {\n",
              "        vertical-align: top;\n",
              "    }\n",
              "\n",
              "    .dataframe thead th {\n",
              "        text-align: right;\n",
              "    }\n",
              "</style>\n",
              "<table border=\"1\" class=\"dataframe\">\n",
              "  <thead>\n",
              "    <tr style=\"text-align: right;\">\n",
              "      <th></th>\n",
              "      <th>created_at</th>\n",
              "      <th>tree_dbh</th>\n",
              "      <th>curb_loc</th>\n",
              "      <th>steward</th>\n",
              "      <th>guards</th>\n",
              "      <th>sidewalk</th>\n",
              "      <th>user_type</th>\n",
              "      <th>problems</th>\n",
              "      <th>spc_common</th>\n",
              "      <th>spc_latin</th>\n",
              "      <th>nta</th>\n",
              "      <th>nta_name</th>\n",
              "      <th>borocode</th>\n",
              "      <th>boro_ct</th>\n",
              "      <th>boroname</th>\n",
              "      <th>zip_city</th>\n",
              "      <th>cb_num</th>\n",
              "      <th>st_senate</th>\n",
              "      <th>st_assem</th>\n",
              "      <th>cncldist</th>\n",
              "    </tr>\n",
              "  </thead>\n",
              "  <tbody>\n",
              "    <tr>\n",
              "      <th>19984</th>\n",
              "      <td>2015-09-08</td>\n",
              "      <td>15</td>\n",
              "      <td>OnCurb</td>\n",
              "      <td>NaN</td>\n",
              "      <td>NaN</td>\n",
              "      <td>Damage</td>\n",
              "      <td>NYC Parks Staff</td>\n",
              "      <td>NaN</td>\n",
              "      <td>Callery pear</td>\n",
              "      <td>Pyrus calleryana</td>\n",
              "      <td>BK17</td>\n",
              "      <td>Sheepshead Bay-Gerritsen Beach-Manhattan Beach</td>\n",
              "      <td>3</td>\n",
              "      <td>3062000</td>\n",
              "      <td>Brooklyn</td>\n",
              "      <td>Brooklyn</td>\n",
              "      <td>315</td>\n",
              "      <td>22</td>\n",
              "      <td>45</td>\n",
              "      <td>48</td>\n",
              "    </tr>\n",
              "    <tr>\n",
              "      <th>19985</th>\n",
              "      <td>2015-10-15</td>\n",
              "      <td>5</td>\n",
              "      <td>OnCurb</td>\n",
              "      <td>1or2</td>\n",
              "      <td>NaN</td>\n",
              "      <td>NoDamage</td>\n",
              "      <td>Volunteer</td>\n",
              "      <td>NaN</td>\n",
              "      <td>cherry</td>\n",
              "      <td>Prunus</td>\n",
              "      <td>BX62</td>\n",
              "      <td>Woodlawn-Wakefield</td>\n",
              "      <td>2</td>\n",
              "      <td>2045101</td>\n",
              "      <td>Bronx</td>\n",
              "      <td>Bronx</td>\n",
              "      <td>212</td>\n",
              "      <td>34</td>\n",
              "      <td>81</td>\n",
              "      <td>11</td>\n",
              "    </tr>\n",
              "    <tr>\n",
              "      <th>19986</th>\n",
              "      <td>2016-08-03</td>\n",
              "      <td>4</td>\n",
              "      <td>OnCurb</td>\n",
              "      <td>NaN</td>\n",
              "      <td>Unsure</td>\n",
              "      <td>NoDamage</td>\n",
              "      <td>Volunteer</td>\n",
              "      <td>NaN</td>\n",
              "      <td>littleleaf linden</td>\n",
              "      <td>Tilia cordata</td>\n",
              "      <td>QN60</td>\n",
              "      <td>Kew Gardens</td>\n",
              "      <td>4</td>\n",
              "      <td>4013800</td>\n",
              "      <td>Queens</td>\n",
              "      <td>Kew Gardens</td>\n",
              "      <td>409</td>\n",
              "      <td>14</td>\n",
              "      <td>27</td>\n",
              "      <td>29</td>\n",
              "    </tr>\n",
              "    <tr>\n",
              "      <th>19987</th>\n",
              "      <td>2015-08-06</td>\n",
              "      <td>7</td>\n",
              "      <td>OnCurb</td>\n",
              "      <td>NaN</td>\n",
              "      <td>NaN</td>\n",
              "      <td>NoDamage</td>\n",
              "      <td>TreesCount Staff</td>\n",
              "      <td>NaN</td>\n",
              "      <td>dawn redwood</td>\n",
              "      <td>Metasequoia glyptostroboides</td>\n",
              "      <td>BK09</td>\n",
              "      <td>Brooklyn Heights-Cobble Hill</td>\n",
              "      <td>3</td>\n",
              "      <td>3000301</td>\n",
              "      <td>Brooklyn</td>\n",
              "      <td>Brooklyn</td>\n",
              "      <td>302</td>\n",
              "      <td>26</td>\n",
              "      <td>52</td>\n",
              "      <td>33</td>\n",
              "    </tr>\n",
              "    <tr>\n",
              "      <th>19988</th>\n",
              "      <td>2015-10-21</td>\n",
              "      <td>6</td>\n",
              "      <td>OnCurb</td>\n",
              "      <td>1or2</td>\n",
              "      <td>Helpful</td>\n",
              "      <td>NoDamage</td>\n",
              "      <td>TreesCount Staff</td>\n",
              "      <td>Stones</td>\n",
              "      <td>purple-leaf plum</td>\n",
              "      <td>Prunus cerasifera</td>\n",
              "      <td>BK75</td>\n",
              "      <td>Bedford</td>\n",
              "      <td>3</td>\n",
              "      <td>3025100</td>\n",
              "      <td>Brooklyn</td>\n",
              "      <td>Brooklyn</td>\n",
              "      <td>303</td>\n",
              "      <td>25</td>\n",
              "      <td>56</td>\n",
              "      <td>36</td>\n",
              "    </tr>\n",
              "  </tbody>\n",
              "</table>\n",
              "</div>\n",
              "    <div class=\"colab-df-buttons\">\n",
              "\n",
              "  <div class=\"colab-df-container\">\n",
              "    <button class=\"colab-df-convert\" onclick=\"convertToInteractive('df-f89f8306-f20f-4c28-9020-36d23548f106')\"\n",
              "            title=\"Convert this dataframe to an interactive table.\"\n",
              "            style=\"display:none;\">\n",
              "\n",
              "  <svg xmlns=\"http://www.w3.org/2000/svg\" height=\"24px\" viewBox=\"0 -960 960 960\">\n",
              "    <path d=\"M120-120v-720h720v720H120Zm60-500h600v-160H180v160Zm220 220h160v-160H400v160Zm0 220h160v-160H400v160ZM180-400h160v-160H180v160Zm440 0h160v-160H620v160ZM180-180h160v-160H180v160Zm440 0h160v-160H620v160Z\"/>\n",
              "  </svg>\n",
              "    </button>\n",
              "\n",
              "  <style>\n",
              "    .colab-df-container {\n",
              "      display:flex;\n",
              "      gap: 12px;\n",
              "    }\n",
              "\n",
              "    .colab-df-convert {\n",
              "      background-color: #E8F0FE;\n",
              "      border: none;\n",
              "      border-radius: 50%;\n",
              "      cursor: pointer;\n",
              "      display: none;\n",
              "      fill: #1967D2;\n",
              "      height: 32px;\n",
              "      padding: 0 0 0 0;\n",
              "      width: 32px;\n",
              "    }\n",
              "\n",
              "    .colab-df-convert:hover {\n",
              "      background-color: #E2EBFA;\n",
              "      box-shadow: 0px 1px 2px rgba(60, 64, 67, 0.3), 0px 1px 3px 1px rgba(60, 64, 67, 0.15);\n",
              "      fill: #174EA6;\n",
              "    }\n",
              "\n",
              "    .colab-df-buttons div {\n",
              "      margin-bottom: 4px;\n",
              "    }\n",
              "\n",
              "    [theme=dark] .colab-df-convert {\n",
              "      background-color: #3B4455;\n",
              "      fill: #D2E3FC;\n",
              "    }\n",
              "\n",
              "    [theme=dark] .colab-df-convert:hover {\n",
              "      background-color: #434B5C;\n",
              "      box-shadow: 0px 1px 3px 1px rgba(0, 0, 0, 0.15);\n",
              "      filter: drop-shadow(0px 1px 2px rgba(0, 0, 0, 0.3));\n",
              "      fill: #FFFFFF;\n",
              "    }\n",
              "  </style>\n",
              "\n",
              "    <script>\n",
              "      const buttonEl =\n",
              "        document.querySelector('#df-f89f8306-f20f-4c28-9020-36d23548f106 button.colab-df-convert');\n",
              "      buttonEl.style.display =\n",
              "        google.colab.kernel.accessAllowed ? 'block' : 'none';\n",
              "\n",
              "      async function convertToInteractive(key) {\n",
              "        const element = document.querySelector('#df-f89f8306-f20f-4c28-9020-36d23548f106');\n",
              "        const dataTable =\n",
              "          await google.colab.kernel.invokeFunction('convertToInteractive',\n",
              "                                                    [key], {});\n",
              "        if (!dataTable) return;\n",
              "\n",
              "        const docLinkHtml = 'Like what you see? Visit the ' +\n",
              "          '<a target=\"_blank\" href=https://colab.research.google.com/notebooks/data_table.ipynb>data table notebook</a>'\n",
              "          + ' to learn more about interactive tables.';\n",
              "        element.innerHTML = '';\n",
              "        dataTable['output_type'] = 'display_data';\n",
              "        await google.colab.output.renderOutput(dataTable, element);\n",
              "        const docLink = document.createElement('div');\n",
              "        docLink.innerHTML = docLinkHtml;\n",
              "        element.appendChild(docLink);\n",
              "      }\n",
              "    </script>\n",
              "  </div>\n",
              "\n",
              "\n",
              "<div id=\"df-b37d5c58-f8ec-45eb-a893-38da21f9f4ca\">\n",
              "  <button class=\"colab-df-quickchart\" onclick=\"quickchart('df-b37d5c58-f8ec-45eb-a893-38da21f9f4ca')\"\n",
              "            title=\"Suggest charts\"\n",
              "            style=\"display:none;\">\n",
              "\n",
              "<svg xmlns=\"http://www.w3.org/2000/svg\" height=\"24px\"viewBox=\"0 0 24 24\"\n",
              "     width=\"24px\">\n",
              "    <g>\n",
              "        <path d=\"M19 3H5c-1.1 0-2 .9-2 2v14c0 1.1.9 2 2 2h14c1.1 0 2-.9 2-2V5c0-1.1-.9-2-2-2zM9 17H7v-7h2v7zm4 0h-2V7h2v10zm4 0h-2v-4h2v4z\"/>\n",
              "    </g>\n",
              "</svg>\n",
              "  </button>\n",
              "\n",
              "<style>\n",
              "  .colab-df-quickchart {\n",
              "      --bg-color: #E8F0FE;\n",
              "      --fill-color: #1967D2;\n",
              "      --hover-bg-color: #E2EBFA;\n",
              "      --hover-fill-color: #174EA6;\n",
              "      --disabled-fill-color: #AAA;\n",
              "      --disabled-bg-color: #DDD;\n",
              "  }\n",
              "\n",
              "  [theme=dark] .colab-df-quickchart {\n",
              "      --bg-color: #3B4455;\n",
              "      --fill-color: #D2E3FC;\n",
              "      --hover-bg-color: #434B5C;\n",
              "      --hover-fill-color: #FFFFFF;\n",
              "      --disabled-bg-color: #3B4455;\n",
              "      --disabled-fill-color: #666;\n",
              "  }\n",
              "\n",
              "  .colab-df-quickchart {\n",
              "    background-color: var(--bg-color);\n",
              "    border: none;\n",
              "    border-radius: 50%;\n",
              "    cursor: pointer;\n",
              "    display: none;\n",
              "    fill: var(--fill-color);\n",
              "    height: 32px;\n",
              "    padding: 0;\n",
              "    width: 32px;\n",
              "  }\n",
              "\n",
              "  .colab-df-quickchart:hover {\n",
              "    background-color: var(--hover-bg-color);\n",
              "    box-shadow: 0 1px 2px rgba(60, 64, 67, 0.3), 0 1px 3px 1px rgba(60, 64, 67, 0.15);\n",
              "    fill: var(--button-hover-fill-color);\n",
              "  }\n",
              "\n",
              "  .colab-df-quickchart-complete:disabled,\n",
              "  .colab-df-quickchart-complete:disabled:hover {\n",
              "    background-color: var(--disabled-bg-color);\n",
              "    fill: var(--disabled-fill-color);\n",
              "    box-shadow: none;\n",
              "  }\n",
              "\n",
              "  .colab-df-spinner {\n",
              "    border: 2px solid var(--fill-color);\n",
              "    border-color: transparent;\n",
              "    border-bottom-color: var(--fill-color);\n",
              "    animation:\n",
              "      spin 1s steps(1) infinite;\n",
              "  }\n",
              "\n",
              "  @keyframes spin {\n",
              "    0% {\n",
              "      border-color: transparent;\n",
              "      border-bottom-color: var(--fill-color);\n",
              "      border-left-color: var(--fill-color);\n",
              "    }\n",
              "    20% {\n",
              "      border-color: transparent;\n",
              "      border-left-color: var(--fill-color);\n",
              "      border-top-color: var(--fill-color);\n",
              "    }\n",
              "    30% {\n",
              "      border-color: transparent;\n",
              "      border-left-color: var(--fill-color);\n",
              "      border-top-color: var(--fill-color);\n",
              "      border-right-color: var(--fill-color);\n",
              "    }\n",
              "    40% {\n",
              "      border-color: transparent;\n",
              "      border-right-color: var(--fill-color);\n",
              "      border-top-color: var(--fill-color);\n",
              "    }\n",
              "    60% {\n",
              "      border-color: transparent;\n",
              "      border-right-color: var(--fill-color);\n",
              "    }\n",
              "    80% {\n",
              "      border-color: transparent;\n",
              "      border-right-color: var(--fill-color);\n",
              "      border-bottom-color: var(--fill-color);\n",
              "    }\n",
              "    90% {\n",
              "      border-color: transparent;\n",
              "      border-bottom-color: var(--fill-color);\n",
              "    }\n",
              "  }\n",
              "</style>\n",
              "\n",
              "  <script>\n",
              "    async function quickchart(key) {\n",
              "      const quickchartButtonEl =\n",
              "        document.querySelector('#' + key + ' button');\n",
              "      quickchartButtonEl.disabled = true;  // To prevent multiple clicks.\n",
              "      quickchartButtonEl.classList.add('colab-df-spinner');\n",
              "      try {\n",
              "        const charts = await google.colab.kernel.invokeFunction(\n",
              "            'suggestCharts', [key], {});\n",
              "      } catch (error) {\n",
              "        console.error('Error during call to suggestCharts:', error);\n",
              "      }\n",
              "      quickchartButtonEl.classList.remove('colab-df-spinner');\n",
              "      quickchartButtonEl.classList.add('colab-df-quickchart-complete');\n",
              "    }\n",
              "    (() => {\n",
              "      let quickchartButtonEl =\n",
              "        document.querySelector('#df-b37d5c58-f8ec-45eb-a893-38da21f9f4ca button');\n",
              "      quickchartButtonEl.style.display =\n",
              "        google.colab.kernel.accessAllowed ? 'block' : 'none';\n",
              "    })();\n",
              "  </script>\n",
              "</div>\n",
              "\n",
              "    </div>\n",
              "  </div>\n"
            ]
          },
          "metadata": {},
          "execution_count": 50
        }
      ]
    },
    {
      "cell_type": "code",
      "source": [
        "train.info()"
      ],
      "metadata": {
        "colab": {
          "base_uri": "https://localhost:8080/"
        },
        "id": "pekuM-qJGfGX",
        "outputId": "d4dfe22e-ff2e-4031-c22c-5449c44beae7"
      },
      "execution_count": null,
      "outputs": [
        {
          "output_type": "stream",
          "name": "stdout",
          "text": [
            "<class 'pandas.core.frame.DataFrame'>\n",
            "Int64Index: 19984 entries, 0 to 19983\n",
            "Data columns (total 21 columns):\n",
            " #   Column      Non-Null Count  Dtype \n",
            "---  ------      --------------  ----- \n",
            " 0   created_at  19984 non-null  object\n",
            " 1   tree_dbh    19984 non-null  int64 \n",
            " 2   curb_loc    19984 non-null  object\n",
            " 3   health      19984 non-null  int64 \n",
            " 4   steward     5101 non-null   object\n",
            " 5   guards      5041 non-null   object\n",
            " 6   sidewalk    19984 non-null  object\n",
            " 7   user_type   19984 non-null  object\n",
            " 8   problems    7741 non-null   object\n",
            " 9   spc_common  19984 non-null  object\n",
            " 10  spc_latin   19984 non-null  object\n",
            " 11  nta         19984 non-null  object\n",
            " 12  nta_name    19984 non-null  object\n",
            " 13  borocode    19984 non-null  int64 \n",
            " 14  boro_ct     19984 non-null  int64 \n",
            " 15  boroname    19984 non-null  object\n",
            " 16  zip_city    19984 non-null  object\n",
            " 17  cb_num      19984 non-null  int64 \n",
            " 18  st_senate   19984 non-null  int64 \n",
            " 19  st_assem    19984 non-null  int64 \n",
            " 20  cncldist    19984 non-null  int64 \n",
            "dtypes: int64(8), object(13)\n",
            "memory usage: 3.4+ MB\n"
          ]
        }
      ]
    },
    {
      "cell_type": "markdown",
      "source": [
        "# Learning"
      ],
      "metadata": {
        "id": "Jmwh-s1WFmKI"
      }
    },
    {
      "cell_type": "code",
      "source": [
        "NFOLD = 5\n",
        "SEED = 42\n",
        "NROUND = 100000\n",
        "ETA = 0.1\n",
        "ESR = 20\n",
        "LOGLEVEL = 20"
      ],
      "metadata": {
        "id": "TJaKTgPDIkIx"
      },
      "execution_count": null,
      "outputs": []
    },
    {
      "source": [
        "train['Branch'] = train['problems'].str.contains('Branch')\n",
        "test['Branch'] = test['problems'].str.contains('Branch')\n",
        "train['MetalGrates'] = train['problems'].str.contains('MetalGrates')\n",
        "test['MetalGrates'] = test['problems'].str.contains('MetalGrates')\n",
        "train['RootOther'] = train['problems'].str.contains('RootOther')\n",
        "test['RootOther'] = test['problems'].str.contains('RootOther')\n",
        "train['Stones'] = train['problems'].str.contains('Stones')\n",
        "test['Stones'] = test['problems'].str.contains('Stones')\n",
        "train['Trunk'] = train['problems'].str.contains('Trunk')\n",
        "test['Trunk'] = test['problems'].str.contains('Trunk')\n",
        "train['WiresRope'] = train['problems'].str.contains('WiresRope')\n",
        "test['WiresRope'] = test['problems'].str.contains('WiresRope')"
      ],
      "cell_type": "code",
      "metadata": {
        "id": "9WAP5IWvj34p"
      },
      "execution_count": null,
      "outputs": []
    },
    {
      "cell_type": "code",
      "source": [
        "target = \"health\"\n",
        "features = [col for col in train.columns if col not in target]\n",
        "categories = [\"created_at\", \"curb_loc\", \"steward\", \"guards\", \"sidewalk\", \"user_type\", \"problems\", \"spc_common\", \"spc_latin\", \"nta\", \"nta_name\", \"boroname\", \"zip_city\", \"Branch\", \"MetalGrates\", \"RootOther\", \"Stones\", \"Trunk\", \"WiresRope\"]"
      ],
      "metadata": {
        "id": "qrW_omoCITdm"
      },
      "execution_count": null,
      "outputs": []
    },
    {
      "cell_type": "code",
      "source": [
        "train['created_at'] = train['created_at'].map(lambda x: x[:7])\n",
        "test['created_at'] = test['created_at'].map(lambda x: x[:7])"
      ],
      "metadata": {
        "id": "U-8P4lBEzu4Y"
      },
      "execution_count": null,
      "outputs": []
    },
    {
      "cell_type": "code",
      "source": [
        "def stratified(X_train, y_train, SEED=SEED, NFOLD=NFOLD):\n",
        "  trn_idx_list = []\n",
        "  val_idx_list = []\n",
        "  folds = StratifiedKFold(\n",
        "      n_splits=NFOLD,\n",
        "      shuffle=True,\n",
        "      random_state=SEED\n",
        "  )\n",
        "  return list(folds.split(X_train.values, y_train.values))"
      ],
      "metadata": {
        "id": "kuczSqg1JSV_"
      },
      "execution_count": null,
      "outputs": []
    },
    {
      "cell_type": "code",
      "source": [
        "for cat in categories:\n",
        "  ser = pd.concat([train[cat], test[cat]]).astype('category')\n",
        "  train[cat] = ser.iloc[:len(train)]\n",
        "  test[cat] = ser.iloc[len(train):]"
      ],
      "metadata": {
        "id": "xVOoTns1O5pM"
      },
      "execution_count": null,
      "outputs": []
    },
    {
      "cell_type": "code",
      "source": [
        "X_train = train[features]\n",
        "y_train = train[target]"
      ],
      "metadata": {
        "id": "sLcra8grGP2E"
      },
      "execution_count": null,
      "outputs": []
    },
    {
      "cell_type": "code",
      "source": [
        "X_train.info()"
      ],
      "metadata": {
        "colab": {
          "base_uri": "https://localhost:8080/"
        },
        "id": "D9DkmLpzMVV1",
        "outputId": "3b2d7dd4-deb6-4221-dbad-2740e0a27ccf"
      },
      "execution_count": null,
      "outputs": [
        {
          "output_type": "stream",
          "name": "stdout",
          "text": [
            "<class 'pandas.core.frame.DataFrame'>\n",
            "Int64Index: 19984 entries, 0 to 19983\n",
            "Data columns (total 26 columns):\n",
            " #   Column       Non-Null Count  Dtype   \n",
            "---  ------       --------------  -----   \n",
            " 0   created_at   19984 non-null  category\n",
            " 1   tree_dbh     19984 non-null  int64   \n",
            " 2   curb_loc     19984 non-null  category\n",
            " 3   steward      5101 non-null   category\n",
            " 4   guards       5041 non-null   category\n",
            " 5   sidewalk     19984 non-null  category\n",
            " 6   user_type    19984 non-null  category\n",
            " 7   problems     7741 non-null   category\n",
            " 8   spc_common   19984 non-null  category\n",
            " 9   spc_latin    19984 non-null  category\n",
            " 10  nta          19984 non-null  category\n",
            " 11  nta_name     19984 non-null  category\n",
            " 12  borocode     19984 non-null  int64   \n",
            " 13  boro_ct      19984 non-null  int64   \n",
            " 14  boroname     19984 non-null  category\n",
            " 15  zip_city     19984 non-null  category\n",
            " 16  cb_num       19984 non-null  int64   \n",
            " 17  st_senate    19984 non-null  int64   \n",
            " 18  st_assem     19984 non-null  int64   \n",
            " 19  cncldist     19984 non-null  int64   \n",
            " 20  Branch       7741 non-null   category\n",
            " 21  MetalGrates  7741 non-null   category\n",
            " 22  RootOther    7741 non-null   category\n",
            " 23  Stones       7741 non-null   category\n",
            " 24  Trunk        7741 non-null   category\n",
            " 25  WiresRope    7741 non-null   category\n",
            "dtypes: category(19), int64(7)\n",
            "memory usage: 1.6 MB\n"
          ]
        }
      ]
    },
    {
      "cell_type": "code",
      "source": [
        "cv = stratified(X_train, y_train)"
      ],
      "metadata": {
        "id": "ImlAp4djLmYD"
      },
      "execution_count": null,
      "outputs": []
    },
    {
      "cell_type": "code",
      "source": [
        "params = {\n",
        "    'objective': 'multiclass',\n",
        "    'metric': 'multi_logloss',\n",
        "    'num_class': 3,\n",
        "    'learning_rate': ETA,\n",
        "    'max_depth': -1,\n",
        "    'num_leaves': 31,\n",
        "    'bagging_fraction': 1.0,\n",
        "    'feature_fraction': 1.0,\n",
        "    'bagging_freq': 0,\n",
        "    'random_state': SEED,\n",
        "    'verbosity': -1,\n",
        "}"
      ],
      "metadata": {
        "id": "-0iSrEHPigzJ"
      },
      "execution_count": null,
      "outputs": []
    },
    {
      "cell_type": "code",
      "source": [
        "models = []\n",
        "val_scores = []\n",
        "importances = pd.DataFrame()\n",
        "oof_preds = np.zeros((len(train), 3))\n",
        "scores_logloss = []\n",
        "\n",
        "for i, (trn_idx, val_idx) in enumerate(cv):\n",
        "  print(f'\\nFold: {i} start prediction.')\n",
        "\n",
        "  trn_x, trn_y = X_train.iloc[trn_idx], y_train[trn_idx]\n",
        "  val_x, val_y = X_train.iloc[val_idx], y_train[val_idx]\n",
        "\n",
        "  dtrain = lgb.Dataset(trn_x, label=trn_y, weight=compute_sample_weight(class_weight='balanced', y=trn_y).astype('float32'))\n",
        "  dvalid = lgb.Dataset(val_x, label=val_y, weight=np.ones(len(val_x)).astype('float32'))\n",
        "\n",
        "  evals_result = {}\n",
        "  model = lgb.train(\n",
        "      params,\n",
        "      train_set=dtrain,\n",
        "      num_boost_round=NROUND,\n",
        "      valid_sets=[dtrain, dvalid],\n",
        "      valid_names=['training', 'valid'],\n",
        "      callbacks=[\n",
        "          lgb.early_stopping(stopping_rounds=ESR, verbose=True),\n",
        "          lgb.log_evaluation(LOGLEVEL)\n",
        "      ]\n",
        "  )\n",
        "\n",
        "  models.append(model)\n",
        "\n",
        "  val_preds = model.predict(val_x, num_iteration=model.best_iteration)\n",
        "  oof_preds[val_idx] = val_preds\n",
        "\n",
        "  val_score = roc_auc_score(val_y, val_preds, multi_class='ovo')\n",
        "  # f1_score = f1_score(val_y, val_preds)\n",
        "  print(f'Fold{i} roc_auc_score: {val_score}')\n",
        "  val_scores.append(val_score)\n",
        "\n",
        "  logloss = log_loss(val_y, val_preds)\n",
        "  scores_logloss.append(logloss)\n",
        "\n",
        "  imp_df = pd.DataFrame({\n",
        "      'feature': model.feature_name(),\n",
        "      'gain': model.feature_importance(importance_type='gain'),\n",
        "      'fold': i\n",
        "  })\n",
        "  importances = pd.concat([importances, imp_df], axis=0)\n",
        "\n",
        "print('========== end prediction ==========')\n",
        "auc_score_mean = np.mean(val_scores)\n",
        "logloss_mean = np.mean(scores_logloss)\n",
        "auc_score_all = roc_auc_score(y_train, oof_preds, multi_class='ovo')\n",
        "print(f'auc_score_all: {auc_score_all}, auc_score_mean: {auc_score_mean}, logloss_mean: {logloss_mean}')"
      ],
      "metadata": {
        "colab": {
          "base_uri": "https://localhost:8080/"
        },
        "id": "dCVg3PJoO6f9",
        "outputId": "f7da4201-a9e7-4d1d-81c3-327cc3f3c1ec"
      },
      "execution_count": null,
      "outputs": [
        {
          "output_type": "stream",
          "name": "stdout",
          "text": [
            "\n",
            "Fold: 0 start prediction.\n",
            "Training until validation scores don't improve for 20 rounds\n",
            "[20]\ttraining's multi_logloss: 0.765668\tvalid's multi_logloss: 0.968413\n",
            "[40]\ttraining's multi_logloss: 0.623224\tvalid's multi_logloss: 0.909553\n",
            "[60]\ttraining's multi_logloss: 0.536142\tvalid's multi_logloss: 0.87142\n",
            "[80]\ttraining's multi_logloss: 0.478387\tvalid's multi_logloss: 0.848103\n",
            "[100]\ttraining's multi_logloss: 0.435095\tvalid's multi_logloss: 0.832606\n",
            "[120]\ttraining's multi_logloss: 0.399777\tvalid's multi_logloss: 0.820711\n",
            "[140]\ttraining's multi_logloss: 0.368669\tvalid's multi_logloss: 0.811239\n",
            "[160]\ttraining's multi_logloss: 0.341779\tvalid's multi_logloss: 0.803426\n",
            "[180]\ttraining's multi_logloss: 0.317398\tvalid's multi_logloss: 0.79804\n",
            "[200]\ttraining's multi_logloss: 0.296217\tvalid's multi_logloss: 0.792835\n",
            "[220]\ttraining's multi_logloss: 0.277319\tvalid's multi_logloss: 0.78958\n",
            "[240]\ttraining's multi_logloss: 0.260959\tvalid's multi_logloss: 0.787383\n",
            "[260]\ttraining's multi_logloss: 0.244012\tvalid's multi_logloss: 0.785954\n",
            "[280]\ttraining's multi_logloss: 0.230014\tvalid's multi_logloss: 0.786252\n",
            "Early stopping, best iteration is:\n",
            "[262]\ttraining's multi_logloss: 0.242828\tvalid's multi_logloss: 0.785819\n",
            "Fold0 roc_auc_score: 0.5365167922571201\n",
            "\n",
            "Fold: 1 start prediction.\n",
            "Training until validation scores don't improve for 20 rounds\n",
            "[20]\ttraining's multi_logloss: 0.766874\tvalid's multi_logloss: 0.974885\n",
            "[40]\ttraining's multi_logloss: 0.617365\tvalid's multi_logloss: 0.903049\n",
            "[60]\ttraining's multi_logloss: 0.529723\tvalid's multi_logloss: 0.861057\n",
            "[80]\ttraining's multi_logloss: 0.468249\tvalid's multi_logloss: 0.83542\n",
            "[100]\ttraining's multi_logloss: 0.42355\tvalid's multi_logloss: 0.817665\n",
            "[120]\ttraining's multi_logloss: 0.385687\tvalid's multi_logloss: 0.803771\n",
            "[140]\ttraining's multi_logloss: 0.354656\tvalid's multi_logloss: 0.795824\n",
            "[160]\ttraining's multi_logloss: 0.328553\tvalid's multi_logloss: 0.787045\n",
            "[180]\ttraining's multi_logloss: 0.304987\tvalid's multi_logloss: 0.779579\n",
            "[200]\ttraining's multi_logloss: 0.283437\tvalid's multi_logloss: 0.775049\n",
            "[220]\ttraining's multi_logloss: 0.265406\tvalid's multi_logloss: 0.772664\n",
            "[240]\ttraining's multi_logloss: 0.249723\tvalid's multi_logloss: 0.771082\n",
            "[260]\ttraining's multi_logloss: 0.235491\tvalid's multi_logloss: 0.770724\n",
            "[280]\ttraining's multi_logloss: 0.221322\tvalid's multi_logloss: 0.770316\n",
            "Early stopping, best iteration is:\n",
            "[270]\ttraining's multi_logloss: 0.228578\tvalid's multi_logloss: 0.769585\n",
            "Fold1 roc_auc_score: 0.5545760797168152\n",
            "\n",
            "Fold: 2 start prediction.\n",
            "Training until validation scores don't improve for 20 rounds\n",
            "[20]\ttraining's multi_logloss: 0.765022\tvalid's multi_logloss: 0.962458\n",
            "[40]\ttraining's multi_logloss: 0.621951\tvalid's multi_logloss: 0.898251\n",
            "[60]\ttraining's multi_logloss: 0.537635\tvalid's multi_logloss: 0.86223\n",
            "[80]\ttraining's multi_logloss: 0.483446\tvalid's multi_logloss: 0.840535\n",
            "[100]\ttraining's multi_logloss: 0.437333\tvalid's multi_logloss: 0.824195\n",
            "[120]\ttraining's multi_logloss: 0.398034\tvalid's multi_logloss: 0.81101\n",
            "[140]\ttraining's multi_logloss: 0.366109\tvalid's multi_logloss: 0.802966\n",
            "[160]\ttraining's multi_logloss: 0.339168\tvalid's multi_logloss: 0.797812\n",
            "[180]\ttraining's multi_logloss: 0.315004\tvalid's multi_logloss: 0.793915\n",
            "[200]\ttraining's multi_logloss: 0.292541\tvalid's multi_logloss: 0.790948\n",
            "[220]\ttraining's multi_logloss: 0.272324\tvalid's multi_logloss: 0.789356\n",
            "Early stopping, best iteration is:\n",
            "[218]\ttraining's multi_logloss: 0.274032\tvalid's multi_logloss: 0.789149\n",
            "Fold2 roc_auc_score: 0.5459771932975611\n",
            "\n",
            "Fold: 3 start prediction.\n",
            "Training until validation scores don't improve for 20 rounds\n",
            "[20]\ttraining's multi_logloss: 0.768746\tvalid's multi_logloss: 0.96242\n",
            "[40]\ttraining's multi_logloss: 0.624181\tvalid's multi_logloss: 0.89715\n",
            "[60]\ttraining's multi_logloss: 0.538936\tvalid's multi_logloss: 0.860256\n",
            "[80]\ttraining's multi_logloss: 0.478326\tvalid's multi_logloss: 0.837774\n",
            "[100]\ttraining's multi_logloss: 0.430078\tvalid's multi_logloss: 0.82031\n",
            "[120]\ttraining's multi_logloss: 0.39357\tvalid's multi_logloss: 0.809467\n",
            "[140]\ttraining's multi_logloss: 0.361344\tvalid's multi_logloss: 0.8\n",
            "[160]\ttraining's multi_logloss: 0.33239\tvalid's multi_logloss: 0.792174\n",
            "[180]\ttraining's multi_logloss: 0.309973\tvalid's multi_logloss: 0.788093\n",
            "[200]\ttraining's multi_logloss: 0.288841\tvalid's multi_logloss: 0.78402\n",
            "[220]\ttraining's multi_logloss: 0.269455\tvalid's multi_logloss: 0.779731\n",
            "[240]\ttraining's multi_logloss: 0.251606\tvalid's multi_logloss: 0.778698\n",
            "[260]\ttraining's multi_logloss: 0.236282\tvalid's multi_logloss: 0.77894\n",
            "Early stopping, best iteration is:\n",
            "[251]\ttraining's multi_logloss: 0.243091\tvalid's multi_logloss: 0.777991\n",
            "Fold3 roc_auc_score: 0.5383753732516109\n",
            "\n",
            "Fold: 4 start prediction.\n",
            "Training until validation scores don't improve for 20 rounds\n",
            "[20]\ttraining's multi_logloss: 0.758179\tvalid's multi_logloss: 0.961999\n",
            "[40]\ttraining's multi_logloss: 0.623663\tvalid's multi_logloss: 0.905781\n",
            "[60]\ttraining's multi_logloss: 0.538828\tvalid's multi_logloss: 0.871677\n",
            "[80]\ttraining's multi_logloss: 0.481942\tvalid's multi_logloss: 0.847117\n",
            "[100]\ttraining's multi_logloss: 0.437914\tvalid's multi_logloss: 0.829372\n",
            "[120]\ttraining's multi_logloss: 0.398149\tvalid's multi_logloss: 0.814988\n",
            "[140]\ttraining's multi_logloss: 0.365957\tvalid's multi_logloss: 0.804334\n",
            "[160]\ttraining's multi_logloss: 0.337695\tvalid's multi_logloss: 0.795612\n",
            "[180]\ttraining's multi_logloss: 0.313375\tvalid's multi_logloss: 0.788324\n",
            "[200]\ttraining's multi_logloss: 0.293456\tvalid's multi_logloss: 0.785113\n",
            "[220]\ttraining's multi_logloss: 0.275386\tvalid's multi_logloss: 0.781645\n",
            "[240]\ttraining's multi_logloss: 0.259583\tvalid's multi_logloss: 0.780433\n",
            "[260]\ttraining's multi_logloss: 0.244534\tvalid's multi_logloss: 0.778525\n",
            "[280]\ttraining's multi_logloss: 0.230643\tvalid's multi_logloss: 0.777502\n",
            "Early stopping, best iteration is:\n",
            "[274]\ttraining's multi_logloss: 0.2348\tvalid's multi_logloss: 0.776849\n",
            "Fold4 roc_auc_score: 0.5361267287106531\n",
            "========== end prediction ==========\n",
            "auc_score_all: 0.5422940203073272, auc_score_mean: 0.5423144334467521, logloss_mean: 0.7798784707632981\n"
          ]
        }
      ]
    },
    {
      "cell_type": "code",
      "source": [
        "np.unique(np.argmax(oof_preds, axis=1), return_counts=True)"
      ],
      "metadata": {
        "colab": {
          "base_uri": "https://localhost:8080/"
        },
        "id": "7PFphdrneeG2",
        "outputId": "1b5a48dd-5ecc-4f76-bc0a-c71a8f29d36b"
      },
      "execution_count": null,
      "outputs": [
        {
          "output_type": "execute_result",
          "data": {
            "text/plain": [
              "(array([0, 1, 2]), array([ 3995, 15437,   552]))"
            ]
          },
          "metadata": {},
          "execution_count": 63
        }
      ]
    },
    {
      "cell_type": "code",
      "source": [
        "sns.barplot(x='gain', y='feature', data=importances.sort_values('gain', ascending=False));"
      ],
      "metadata": {
        "colab": {
          "base_uri": "https://localhost:8080/",
          "height": 458
        },
        "id": "7XYubt-NO6iR",
        "outputId": "d10d6263-510a-4fc7-de42-a7b204b9d627"
      },
      "execution_count": null,
      "outputs": [
        {
          "output_type": "display_data",
          "data": {
            "text/plain": [
              "<Figure size 640x480 with 1 Axes>"
            ],
            "image/png": "[encoded data removed]"
          },
          "metadata": {}
        }
      ]
    },
    {
      "cell_type": "code",
      "source": [],
      "metadata": {
        "id": "he5kInbnO6kn"
      },
      "execution_count": null,
      "outputs": []
    },
    {
      "cell_type": "code",
      "source": [],
      "metadata": {
        "id": "AntTc_4LO6mt"
      },
      "execution_count": null,
      "outputs": []
    },
    {
      "cell_type": "markdown",
      "source": [
        "# Predicting"
      ],
      "metadata": {
        "id": "OHanORjTFmMs"
      }
    },
    {
      "cell_type": "code",
      "source": [
        "test_preds = np.zeros((len(test), 3))\n",
        "for model in models:\n",
        "  test_pred = model.predict(test) / NFOLD\n",
        "  test_preds += test_pred\n",
        "np.unique(np.argmax(test_preds, axis=1), return_counts=True)"
      ],
      "metadata": {
        "colab": {
          "base_uri": "https://localhost:8080/"
        },
        "id": "6kffE3i6O374",
        "outputId": "c067a3e5-58cf-448a-befe-b4b888da7bb1"
      },
      "execution_count": null,
      "outputs": [
        {
          "output_type": "execute_result",
          "data": {
            "text/plain": [
              "(array([0, 1, 2]), array([ 3296, 16013,   393]))"
            ]
          },
          "metadata": {},
          "execution_count": 65
        }
      ]
    },
    {
      "cell_type": "code",
      "source": [
        "sample_submit[1] = np.argmax(test_preds, axis=1)\n",
        "sample_submit.to_csv('/content/drive/MyDrive/SMFG/submit_lightgbm_problems.csv', header=None)"
      ],
      "metadata": {
        "id": "kjOX1tZHgwQH"
      },
      "execution_count": null,
      "outputs": []
    }
  ]
}